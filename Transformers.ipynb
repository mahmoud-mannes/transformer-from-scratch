{
 "cells": [
  {
   "cell_type": "code",
   "execution_count": 83,
   "id": "02dce27c",
   "metadata": {},
   "outputs": [],
   "source": [
    "import torch\n",
    "import torch.nn as nn\n",
    "from torch.nn import functional as F\n",
    "from prepare import prepare_data\n",
    "from math import sqrt"
   ]
  },
  {
   "cell_type": "code",
   "execution_count": 42,
   "id": "a2584093",
   "metadata": {},
   "outputs": [],
   "source": [
    "#Hyperparameters\n",
    "embedding_dim = 64\n",
    "max_token = 8\n",
    "d_key = 16"
   ]
  },
  {
   "cell_type": "code",
   "execution_count": 2,
   "id": "7a8bfd68",
   "metadata": {},
   "outputs": [],
   "source": [
    "def train_dev_split(x,train,dev):\n",
    "    N = x.shape[0]\n",
    "    Ntr = int(N * train)\n",
    "    Ndev = int(N*dev)\n",
    "    ind = torch.randperm(Ntr)\n",
    "    data_tr = x[ind][:Ntr]\n",
    "    data_dev = x[ind][Ntr:Ntr+Ndev]\n",
    "    return data_tr,data_dev"
   ]
  },
  {
   "cell_type": "code",
   "execution_count": 20,
   "id": "f4c20b8b",
   "metadata": {},
   "outputs": [],
   "source": [
    "device = \"cuda\" if torch.cuda.device_count() else \"cpu\"\n",
    "full_data = prepare_data(\"input.txt\")\n",
    "data, vocab, encode, decode = torch.tensor(full_data[\"encoded_data\"], device=device), full_data[\"vocab\"], full_data[\"encode\"], full_data[\"decode\"]\n",
    "vocab_size = len(vocab)\n",
    "B = data.shape[0] // max_token\n",
    "ind = torch.randperm(n= data.shape[0] - max_token)[:B]\n",
    "ranges = ind.view(B,1) + torch.arange(max_token)\n",
    "data = data[ranges]\n",
    "data_tr,data_dev = train_dev_split(data,0.9,0.1)"
   ]
  },
  {
   "cell_type": "code",
   "execution_count": 21,
   "id": "40172510",
   "metadata": {},
   "outputs": [
    {
     "data": {
      "text/plain": [
       "tensor([[58, 43, 52, 42,  1, 58, 53,  1],\n",
       "        [47, 57,  1, 50, 39, 52, 42,  1],\n",
       "        [42,  1, 41, 39, 52, 53, 54, 47],\n",
       "        [47, 60, 43,  6,  1, 58, 47, 50],\n",
       "        [ 1, 53, 59, 58,  1, 53, 44,  1],\n",
       "        [51, 39, 52, 63,  1, 51, 43, 52],\n",
       "        [59, 43, 56, 53, 56, 10,  0, 20],\n",
       "        [46, 39, 52, 49, 44, 59, 50,  1],\n",
       "        [40, 59, 58,  1, 54, 50, 43, 39],\n",
       "        [39, 47, 56,  1, 61, 47, 58, 46]])"
      ]
     },
     "execution_count": 21,
     "metadata": {},
     "output_type": "execute_result"
    }
   ],
   "source": [
    "overfitting_data = data[:10]\n",
    "overfitting_data"
   ]
  },
  {
   "cell_type": "code",
   "execution_count": 48,
   "id": "c9180bdd",
   "metadata": {},
   "outputs": [],
   "source": [
    "class Transformer(nn.Module):\n",
    "    def __init__(self):\n",
    "        super().__init__()\n",
    "        self.embedding_table = nn.Embedding(vocab_size, embedding_dim)\n",
    "        self.pos_table = nn.Embedding(max_token,embedding_dim)\n",
    "    def forward(self,x):\n",
    "        return self.embedding_table(x) + self.pos_table(torch.arange(max_token))"
   ]
  },
  {
   "cell_type": "code",
   "execution_count": 84,
   "id": "2c1b41be",
   "metadata": {},
   "outputs": [],
   "source": [
    "class Head(nn.Module):\n",
    "    def __init__(self):\n",
    "        super().__init__()\n",
    "        self.keyM = nn.Linear(embedding_dim, d_key)\n",
    "        self.queryM = nn.Linear(embedding_dim, d_key)\n",
    "        self.valueM = nn.Linear(embedding_dim, d_key)\n",
    "    def forward(self,x):\n",
    "        Q = self.queryM(x)\n",
    "        K = self.keyM(x)\n",
    "        V = self.valueM(x)\n",
    "        scores = (Q @ K.permute(0,2,1)) / sqrt(d_key)\n",
    "        #Masking for attention\n",
    "        inp = torch.ones(max_token, max_token)  \n",
    "        mask = torch.tril(inp).bool()\n",
    "        scores = scores.masked_fill(~mask, float('-inf'))\n",
    "        #Attention\n",
    "        attn = torch.softmax(scores, dim=-1)\n",
    "        return attn @ V\n",
    "        "
   ]
  },
  {
   "cell_type": "code",
   "execution_count": 82,
   "id": "309b622a",
   "metadata": {},
   "outputs": [
    {
     "ename": "TypeError",
     "evalue": "sqrt(): argument 'input' (position 1) must be Tensor, not int",
     "output_type": "error",
     "traceback": [
      "\u001b[31m---------------------------------------------------------------------------\u001b[39m",
      "\u001b[31mTypeError\u001b[39m                                 Traceback (most recent call last)",
      "\u001b[36mCell\u001b[39m\u001b[36m \u001b[39m\u001b[32mIn[82]\u001b[39m\u001b[32m, line 4\u001b[39m\n\u001b[32m      2\u001b[39m embedded = emb(overfitting_data)\n\u001b[32m      3\u001b[39m single_head = Head()\n\u001b[32m----> \u001b[39m\u001b[32m4\u001b[39m current = \u001b[43msingle_head\u001b[49m\u001b[43m(\u001b[49m\u001b[43membedded\u001b[49m\u001b[43m)\u001b[49m\n\u001b[32m      5\u001b[39m current\n",
      "\u001b[36mFile \u001b[39m\u001b[32m~\\AppData\\Local\\Packages\\PythonSoftwareFoundation.Python.3.13_qbz5n2kfra8p0\\LocalCache\\local-packages\\Python313\\site-packages\\torch\\nn\\modules\\module.py:1773\u001b[39m, in \u001b[36mModule._wrapped_call_impl\u001b[39m\u001b[34m(self, *args, **kwargs)\u001b[39m\n\u001b[32m   1771\u001b[39m     \u001b[38;5;28;01mreturn\u001b[39;00m \u001b[38;5;28mself\u001b[39m._compiled_call_impl(*args, **kwargs)  \u001b[38;5;66;03m# type: ignore[misc]\u001b[39;00m\n\u001b[32m   1772\u001b[39m \u001b[38;5;28;01melse\u001b[39;00m:\n\u001b[32m-> \u001b[39m\u001b[32m1773\u001b[39m     \u001b[38;5;28;01mreturn\u001b[39;00m \u001b[38;5;28;43mself\u001b[39;49m\u001b[43m.\u001b[49m\u001b[43m_call_impl\u001b[49m\u001b[43m(\u001b[49m\u001b[43m*\u001b[49m\u001b[43margs\u001b[49m\u001b[43m,\u001b[49m\u001b[43m \u001b[49m\u001b[43m*\u001b[49m\u001b[43m*\u001b[49m\u001b[43mkwargs\u001b[49m\u001b[43m)\u001b[49m\n",
      "\u001b[36mFile \u001b[39m\u001b[32m~\\AppData\\Local\\Packages\\PythonSoftwareFoundation.Python.3.13_qbz5n2kfra8p0\\LocalCache\\local-packages\\Python313\\site-packages\\torch\\nn\\modules\\module.py:1784\u001b[39m, in \u001b[36mModule._call_impl\u001b[39m\u001b[34m(self, *args, **kwargs)\u001b[39m\n\u001b[32m   1779\u001b[39m \u001b[38;5;66;03m# If we don't have any hooks, we want to skip the rest of the logic in\u001b[39;00m\n\u001b[32m   1780\u001b[39m \u001b[38;5;66;03m# this function, and just call forward.\u001b[39;00m\n\u001b[32m   1781\u001b[39m \u001b[38;5;28;01mif\u001b[39;00m \u001b[38;5;129;01mnot\u001b[39;00m (\u001b[38;5;28mself\u001b[39m._backward_hooks \u001b[38;5;129;01mor\u001b[39;00m \u001b[38;5;28mself\u001b[39m._backward_pre_hooks \u001b[38;5;129;01mor\u001b[39;00m \u001b[38;5;28mself\u001b[39m._forward_hooks \u001b[38;5;129;01mor\u001b[39;00m \u001b[38;5;28mself\u001b[39m._forward_pre_hooks\n\u001b[32m   1782\u001b[39m         \u001b[38;5;129;01mor\u001b[39;00m _global_backward_pre_hooks \u001b[38;5;129;01mor\u001b[39;00m _global_backward_hooks\n\u001b[32m   1783\u001b[39m         \u001b[38;5;129;01mor\u001b[39;00m _global_forward_hooks \u001b[38;5;129;01mor\u001b[39;00m _global_forward_pre_hooks):\n\u001b[32m-> \u001b[39m\u001b[32m1784\u001b[39m     \u001b[38;5;28;01mreturn\u001b[39;00m \u001b[43mforward_call\u001b[49m\u001b[43m(\u001b[49m\u001b[43m*\u001b[49m\u001b[43margs\u001b[49m\u001b[43m,\u001b[49m\u001b[43m \u001b[49m\u001b[43m*\u001b[49m\u001b[43m*\u001b[49m\u001b[43mkwargs\u001b[49m\u001b[43m)\u001b[49m\n\u001b[32m   1786\u001b[39m result = \u001b[38;5;28;01mNone\u001b[39;00m\n\u001b[32m   1787\u001b[39m called_always_called_hooks = \u001b[38;5;28mset\u001b[39m()\n",
      "\u001b[36mCell\u001b[39m\u001b[36m \u001b[39m\u001b[32mIn[81]\u001b[39m\u001b[32m, line 11\u001b[39m, in \u001b[36mHead.forward\u001b[39m\u001b[34m(self, x)\u001b[39m\n\u001b[32m      9\u001b[39m K = \u001b[38;5;28mself\u001b[39m.keyM(x)\n\u001b[32m     10\u001b[39m V = \u001b[38;5;28mself\u001b[39m.valueM(x)\n\u001b[32m---> \u001b[39m\u001b[32m11\u001b[39m scores = (Q @ K.permute(\u001b[32m0\u001b[39m,\u001b[32m2\u001b[39m,\u001b[32m1\u001b[39m)) / \u001b[43mtorch\u001b[49m\u001b[43m.\u001b[49m\u001b[43msqrt\u001b[49m\u001b[43m(\u001b[49m\u001b[43md_key\u001b[49m\u001b[43m)\u001b[49m\n\u001b[32m     12\u001b[39m \u001b[38;5;66;03m#Masking for attention\u001b[39;00m\n\u001b[32m     13\u001b[39m inp = torch.ones(max_token, max_token)  \n",
      "\u001b[31mTypeError\u001b[39m: sqrt(): argument 'input' (position 1) must be Tensor, not int"
     ]
    }
   ],
   "source": [
    "emb = Transformer()\n",
    "embedded = emb(overfitting_data)\n",
    "single_head = Head()\n",
    "current = single_head(embedded)\n",
    "current"
   ]
  }
 ],
 "metadata": {
  "kernelspec": {
   "display_name": "Python 3",
   "language": "python",
   "name": "python3"
  },
  "language_info": {
   "codemirror_mode": {
    "name": "ipython",
    "version": 3
   },
   "file_extension": ".py",
   "mimetype": "text/x-python",
   "name": "python",
   "nbconvert_exporter": "python",
   "pygments_lexer": "ipython3",
   "version": "3.13.7"
  }
 },
 "nbformat": 4,
 "nbformat_minor": 5
}
