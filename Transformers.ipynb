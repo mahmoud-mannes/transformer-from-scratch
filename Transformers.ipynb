{
 "cells": [
  {
   "cell_type": "code",
   "execution_count": 1,
   "id": "02dce27c",
   "metadata": {},
   "outputs": [],
   "source": [
    "import torch\n",
    "import torch.nn as nn\n",
    "from torch.nn import functional as F\n",
    "from prepare import prepare_data\n",
    "from math import sqrt"
   ]
  },
  {
   "cell_type": "code",
   "execution_count": 2,
   "id": "a2584093",
   "metadata": {},
   "outputs": [],
   "source": [
    "#Hyperparameters (setting the embedding_dim to be a multiple of d_key is ideal)\n",
    "embedding_dim = 64\n",
    "max_token = 8\n",
    "d_key = 16\n",
    "n_decoder_layers = 3\n",
    "n_head = embedding_dim // d_key"
   ]
  },
  {
   "cell_type": "code",
   "execution_count": 3,
   "id": "7a8bfd68",
   "metadata": {},
   "outputs": [],
   "source": [
    "def train_dev_split(x,train,dev):\n",
    "    N = x.shape[0]\n",
    "    Ntr = int(N * train)\n",
    "    Ndev = int(N*dev)\n",
    "    ind = torch.randperm(Ntr)\n",
    "    data_tr = x[ind][:Ntr]\n",
    "    data_dev = x[ind][Ntr:Ntr+Ndev]\n",
    "    return data_tr,data_dev"
   ]
  },
  {
   "cell_type": "code",
   "execution_count": 4,
   "id": "f4c20b8b",
   "metadata": {},
   "outputs": [],
   "source": [
    "device = \"cuda\" if torch.cuda.device_count() else \"cpu\"\n",
    "full_data = prepare_data(\"input.txt\")\n",
    "data, vocab, encode, decode = torch.tensor(full_data[\"encoded_data\"], device=device), full_data[\"vocab\"], full_data[\"encode\"], full_data[\"decode\"]\n",
    "vocab_size = len(vocab)\n",
    "Batch = data.shape[0] // max_token\n",
    "ind = torch.randperm(n= data.shape[0] - max_token)[:Batch]\n",
    "ranges = ind.view(Batch,1) + torch.arange(max_token)\n",
    "data = data[ranges]\n",
    "data_tr,data_dev = train_dev_split(data,0.9,0.1)"
   ]
  },
  {
   "cell_type": "code",
   "execution_count": 5,
   "id": "40172510",
   "metadata": {},
   "outputs": [
    {
     "data": {
      "text/plain": [
       "tensor([[ 1, 61, 53, 56, 42,  1, 47],\n",
       "        [58, 43, 56,  1, 58, 46, 39],\n",
       "        [57,  1, 58, 46, 39, 58,  1],\n",
       "        [13, 52, 42,  1, 41, 56, 47],\n",
       "        [43,  1, 46, 43, 39, 60, 43],\n",
       "        [50, 43, 43, 60, 43, 57,  8],\n",
       "        [53, 42,  1, 54, 56, 43, 60],\n",
       "        [27, 10,  0, 32, 56, 59, 43],\n",
       "        [52, 43, 58, 43, 43, 52,  1],\n",
       "        [53, 61, 39, 56, 42, 57,  2]])"
      ]
     },
     "execution_count": 5,
     "metadata": {},
     "output_type": "execute_result"
    }
   ],
   "source": [
    "overfitting_data = data[:10]\n",
    "overfitting_data[:,1:]"
   ]
  },
  {
   "cell_type": "code",
   "execution_count": 14,
   "id": "2c1b41be",
   "metadata": {},
   "outputs": [],
   "source": [
    "class Head(nn.Module):\n",
    "    def __init__(self):\n",
    "        super().__init__()\n",
    "        self.keyM = nn.Linear(embedding_dim, d_key)\n",
    "        self.queryM = nn.Linear(embedding_dim, d_key)\n",
    "        self.valueM = nn.Linear(embedding_dim, d_key)\n",
    "    def forward(self,x):\n",
    "        Q = self.queryM(x)\n",
    "        K = self.keyM(x)\n",
    "        V = self.valueM(x)\n",
    "        scores = (Q @ K.permute(0,2,1)) / torch.sqrt(torch.tensor(d_key,device=device))\n",
    "        #Masking for attention\n",
    "        inp = torch.ones(max_token, max_token)  \n",
    "        mask = torch.tril(inp).bool()\n",
    "        scores = scores.masked_fill(~mask, float('-inf'))\n",
    "        #Attention\n",
    "        attn = torch.softmax(scores, dim=-1)\n",
    "        return attn @ V\n",
    "        "
   ]
  },
  {
   "cell_type": "code",
   "execution_count": 15,
   "id": "4feec7ae",
   "metadata": {},
   "outputs": [],
   "source": [
    "class MultiHeadedAttention(nn.Module):\n",
    "    def __init__(self):\n",
    "        super().__init__()\n",
    "        self.heads = nn.ModuleList([Head() for i in range(n_head)])\n",
    "        self.linear_layer = nn.Linear(n_head*d_key, embedding_dim)\n",
    "    def forward(self,x):\n",
    "        res = []\n",
    "        for i in range(n_head):\n",
    "            res.append(self.heads[i](x))\n",
    "        return self.linear_layer(torch.cat(res, dim=-1))"
   ]
  },
  {
   "cell_type": "code",
   "execution_count": 16,
   "id": "47be0cc4",
   "metadata": {},
   "outputs": [],
   "source": [
    "class Transformer(nn.Module):\n",
    "    def __init__(self):\n",
    "        super().__init__()\n",
    "        self.embedding_table = nn.Embedding(vocab_size, embedding_dim)\n",
    "        self.pos_table = nn.Embedding(max_token,embedding_dim)\n",
    "        self.decoder_layers = nn.ModuleList([MultiHeadedAttention() for i in range(n_decoder_layers)])\n",
    "        self.feed_forward = nn.ModuleList([nn.Sequential(nn.Linear(embedding_dim,4*embedding_dim),nn.ReLU(),nn.Linear(4*embedding_dim,embedding_dim)) for i in range(n_decoder_layers)])\n",
    "        self.final_linear = nn.Linear(embedding_dim,vocab_size)\n",
    "        self.layer_norm = nn.LayerNorm(embedding_dim)\n",
    "    def forward(self,x):\n",
    "        emb = self.embedding_table(x) + self.pos_table(torch.arange(x.shape[1],device=device))\n",
    "        out = emb\n",
    "        for i in range(n_decoder_layers):\n",
    "            attn_out = self.decoder_layers[i](self.layer_norm(out))\n",
    "            out = out + attn_out\n",
    "            ff_out = self.feed_forward[i](self.layer_norm(out))\n",
    "            out = out + ff_out\n",
    "        return self.final_linear(out)"
   ]
  },
  {
   "cell_type": "code",
   "execution_count": 17,
   "id": "50741368",
   "metadata": {},
   "outputs": [],
   "source": [
    "DecoderOnlyTransformer = Transformer().to(device)\n",
    "optimizer = torch.optim.AdamW(lr=4e-3,params=DecoderOnlyTransformer.parameters())"
   ]
  },
  {
   "cell_type": "code",
   "execution_count": 20,
   "id": "8b3719d3",
   "metadata": {},
   "outputs": [
    {
     "name": "stdout",
     "output_type": "stream",
     "text": [
      "tensor(2.5353, grad_fn=<NllLossBackward0>)\n",
      "tensor(1.6157, grad_fn=<NllLossBackward0>)\n",
      "tensor(1.0234, grad_fn=<NllLossBackward0>)\n",
      "tensor(0.9384, grad_fn=<NllLossBackward0>)\n",
      "tensor(0.6635, grad_fn=<NllLossBackward0>)\n",
      "tensor(0.4407, grad_fn=<NllLossBackward0>)\n",
      "tensor(0.3347, grad_fn=<NllLossBackward0>)\n",
      "tensor(0.2663, grad_fn=<NllLossBackward0>)\n",
      "tensor(0.2108, grad_fn=<NllLossBackward0>)\n",
      "tensor(0.1666, grad_fn=<NllLossBackward0>)\n",
      "tensor(0.1291, grad_fn=<NllLossBackward0>)\n",
      "tensor(0.0926, grad_fn=<NllLossBackward0>)\n",
      "tensor(0.0612, grad_fn=<NllLossBackward0>)\n",
      "tensor(0.0403, grad_fn=<NllLossBackward0>)\n",
      "tensor(0.0280, grad_fn=<NllLossBackward0>)\n",
      "tensor(0.0207, grad_fn=<NllLossBackward0>)\n",
      "tensor(0.0162, grad_fn=<NllLossBackward0>)\n",
      "tensor(0.0132, grad_fn=<NllLossBackward0>)\n",
      "tensor(0.0110, grad_fn=<NllLossBackward0>)\n",
      "tensor(0.0090, grad_fn=<NllLossBackward0>)\n",
      "tensor(0.0072, grad_fn=<NllLossBackward0>)\n",
      "tensor(0.0056, grad_fn=<NllLossBackward0>)\n",
      "tensor(0.0043, grad_fn=<NllLossBackward0>)\n",
      "tensor(0.0034, grad_fn=<NllLossBackward0>)\n",
      "tensor(0.0027, grad_fn=<NllLossBackward0>)\n",
      "tensor(0.0022, grad_fn=<NllLossBackward0>)\n",
      "tensor(0.0019, grad_fn=<NllLossBackward0>)\n",
      "tensor(0.0016, grad_fn=<NllLossBackward0>)\n",
      "tensor(0.0014, grad_fn=<NllLossBackward0>)\n",
      "tensor(0.0012, grad_fn=<NllLossBackward0>)\n",
      "tensor(0.0011, grad_fn=<NllLossBackward0>)\n"
     ]
    },
    {
     "ename": "KeyboardInterrupt",
     "evalue": "",
     "output_type": "error",
     "traceback": [
      "\u001b[31m---------------------------------------------------------------------------\u001b[39m",
      "\u001b[31mKeyboardInterrupt\u001b[39m                         Traceback (most recent call last)",
      "\u001b[36mCell\u001b[39m\u001b[36m \u001b[39m\u001b[32mIn[20]\u001b[39m\u001b[32m, line 9\u001b[39m\n\u001b[32m      7\u001b[39m loss = F.cross_entropy(out,targets)\n\u001b[32m      8\u001b[39m DecoderOnlyTransformer.zero_grad()\n\u001b[32m----> \u001b[39m\u001b[32m9\u001b[39m \u001b[43mloss\u001b[49m\u001b[43m.\u001b[49m\u001b[43mbackward\u001b[49m\u001b[43m(\u001b[49m\u001b[43m)\u001b[49m\n\u001b[32m     10\u001b[39m optimizer.step()\n\u001b[32m     11\u001b[39m optimizer.zero_grad()\n",
      "\u001b[36mFile \u001b[39m\u001b[32m~\\AppData\\Local\\Packages\\PythonSoftwareFoundation.Python.3.13_qbz5n2kfra8p0\\LocalCache\\local-packages\\Python313\\site-packages\\torch\\_tensor.py:647\u001b[39m, in \u001b[36mTensor.backward\u001b[39m\u001b[34m(self, gradient, retain_graph, create_graph, inputs)\u001b[39m\n\u001b[32m    637\u001b[39m \u001b[38;5;28;01mif\u001b[39;00m has_torch_function_unary(\u001b[38;5;28mself\u001b[39m):\n\u001b[32m    638\u001b[39m     \u001b[38;5;28;01mreturn\u001b[39;00m handle_torch_function(\n\u001b[32m    639\u001b[39m         Tensor.backward,\n\u001b[32m    640\u001b[39m         (\u001b[38;5;28mself\u001b[39m,),\n\u001b[32m   (...)\u001b[39m\u001b[32m    645\u001b[39m         inputs=inputs,\n\u001b[32m    646\u001b[39m     )\n\u001b[32m--> \u001b[39m\u001b[32m647\u001b[39m \u001b[43mtorch\u001b[49m\u001b[43m.\u001b[49m\u001b[43mautograd\u001b[49m\u001b[43m.\u001b[49m\u001b[43mbackward\u001b[49m\u001b[43m(\u001b[49m\n\u001b[32m    648\u001b[39m \u001b[43m    \u001b[49m\u001b[38;5;28;43mself\u001b[39;49m\u001b[43m,\u001b[49m\u001b[43m \u001b[49m\u001b[43mgradient\u001b[49m\u001b[43m,\u001b[49m\u001b[43m \u001b[49m\u001b[43mretain_graph\u001b[49m\u001b[43m,\u001b[49m\u001b[43m \u001b[49m\u001b[43mcreate_graph\u001b[49m\u001b[43m,\u001b[49m\u001b[43m \u001b[49m\u001b[43minputs\u001b[49m\u001b[43m=\u001b[49m\u001b[43minputs\u001b[49m\n\u001b[32m    649\u001b[39m \u001b[43m\u001b[49m\u001b[43m)\u001b[49m\n",
      "\u001b[36mFile \u001b[39m\u001b[32m~\\AppData\\Local\\Packages\\PythonSoftwareFoundation.Python.3.13_qbz5n2kfra8p0\\LocalCache\\local-packages\\Python313\\site-packages\\torch\\autograd\\__init__.py:354\u001b[39m, in \u001b[36mbackward\u001b[39m\u001b[34m(tensors, grad_tensors, retain_graph, create_graph, grad_variables, inputs)\u001b[39m\n\u001b[32m    349\u001b[39m     retain_graph = create_graph\n\u001b[32m    351\u001b[39m \u001b[38;5;66;03m# The reason we repeat the same comment below is that\u001b[39;00m\n\u001b[32m    352\u001b[39m \u001b[38;5;66;03m# some Python versions print out the first line of a multi-line function\u001b[39;00m\n\u001b[32m    353\u001b[39m \u001b[38;5;66;03m# calls in the traceback and some print out the last line\u001b[39;00m\n\u001b[32m--> \u001b[39m\u001b[32m354\u001b[39m \u001b[43m_engine_run_backward\u001b[49m\u001b[43m(\u001b[49m\n\u001b[32m    355\u001b[39m \u001b[43m    \u001b[49m\u001b[43mtensors\u001b[49m\u001b[43m,\u001b[49m\n\u001b[32m    356\u001b[39m \u001b[43m    \u001b[49m\u001b[43mgrad_tensors_\u001b[49m\u001b[43m,\u001b[49m\n\u001b[32m    357\u001b[39m \u001b[43m    \u001b[49m\u001b[43mretain_graph\u001b[49m\u001b[43m,\u001b[49m\n\u001b[32m    358\u001b[39m \u001b[43m    \u001b[49m\u001b[43mcreate_graph\u001b[49m\u001b[43m,\u001b[49m\n\u001b[32m    359\u001b[39m \u001b[43m    \u001b[49m\u001b[43minputs_tuple\u001b[49m\u001b[43m,\u001b[49m\n\u001b[32m    360\u001b[39m \u001b[43m    \u001b[49m\u001b[43mallow_unreachable\u001b[49m\u001b[43m=\u001b[49m\u001b[38;5;28;43;01mTrue\u001b[39;49;00m\u001b[43m,\u001b[49m\n\u001b[32m    361\u001b[39m \u001b[43m    \u001b[49m\u001b[43maccumulate_grad\u001b[49m\u001b[43m=\u001b[49m\u001b[38;5;28;43;01mTrue\u001b[39;49;00m\u001b[43m,\u001b[49m\n\u001b[32m    362\u001b[39m \u001b[43m\u001b[49m\u001b[43m)\u001b[49m\n",
      "\u001b[36mFile \u001b[39m\u001b[32m~\\AppData\\Local\\Packages\\PythonSoftwareFoundation.Python.3.13_qbz5n2kfra8p0\\LocalCache\\local-packages\\Python313\\site-packages\\torch\\autograd\\graph.py:829\u001b[39m, in \u001b[36m_engine_run_backward\u001b[39m\u001b[34m(t_outputs, *args, **kwargs)\u001b[39m\n\u001b[32m    827\u001b[39m     unregister_hooks = _register_logging_hooks_on_whole_graph(t_outputs)\n\u001b[32m    828\u001b[39m \u001b[38;5;28;01mtry\u001b[39;00m:\n\u001b[32m--> \u001b[39m\u001b[32m829\u001b[39m     \u001b[38;5;28;01mreturn\u001b[39;00m \u001b[43mVariable\u001b[49m\u001b[43m.\u001b[49m\u001b[43m_execution_engine\u001b[49m\u001b[43m.\u001b[49m\u001b[43mrun_backward\u001b[49m\u001b[43m(\u001b[49m\u001b[43m  \u001b[49m\u001b[38;5;66;43;03m# Calls into the C++ engine to run the backward pass\u001b[39;49;00m\n\u001b[32m    830\u001b[39m \u001b[43m        \u001b[49m\u001b[43mt_outputs\u001b[49m\u001b[43m,\u001b[49m\u001b[43m \u001b[49m\u001b[43m*\u001b[49m\u001b[43margs\u001b[49m\u001b[43m,\u001b[49m\u001b[43m \u001b[49m\u001b[43m*\u001b[49m\u001b[43m*\u001b[49m\u001b[43mkwargs\u001b[49m\n\u001b[32m    831\u001b[39m \u001b[43m    \u001b[49m\u001b[43m)\u001b[49m  \u001b[38;5;66;03m# Calls into the C++ engine to run the backward pass\u001b[39;00m\n\u001b[32m    832\u001b[39m \u001b[38;5;28;01mfinally\u001b[39;00m:\n\u001b[32m    833\u001b[39m     \u001b[38;5;28;01mif\u001b[39;00m attach_logging_hooks:\n",
      "\u001b[31mKeyboardInterrupt\u001b[39m: "
     ]
    }
   ],
   "source": [
    "#TRAINING BLOCK:\n",
    "for i in range(100):\n",
    "    out = DecoderOnlyTransformer(data_tr[:100])\n",
    "    B,T,C = out.shape\n",
    "    out = out.view(B*T, C)\n",
    "    targets = data_tr[:100].view(-1)\n",
    "    loss = F.cross_entropy(out,targets)\n",
    "    DecoderOnlyTransformer.zero_grad()\n",
    "    loss.backward()\n",
    "    optimizer.step()\n",
    "    optimizer.zero_grad()\n",
    "    print(loss)"
   ]
  }
 ],
 "metadata": {
  "kernelspec": {
   "display_name": "Python 3",
   "language": "python",
   "name": "python3"
  },
  "language_info": {
   "codemirror_mode": {
    "name": "ipython",
    "version": 3
   },
   "file_extension": ".py",
   "mimetype": "text/x-python",
   "name": "python",
   "nbconvert_exporter": "python",
   "pygments_lexer": "ipython3",
   "version": "3.13.7"
  }
 },
 "nbformat": 4,
 "nbformat_minor": 5
}
